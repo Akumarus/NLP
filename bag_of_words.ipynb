{
 "cells": [
  {
   "cell_type": "code",
   "execution_count": 14,
   "metadata": {},
   "outputs": [],
   "source": [
    "from sklearn.datasets import fetch_20newsgroups\n",
    "from sklearn.feature_extraction.text import CountVectorizer"
   ]
  },
  {
   "cell_type": "code",
   "execution_count": 17,
   "metadata": {},
   "outputs": [],
   "source": [
    "num_topics = 20\n",
    "\n",
    "newsgroups_train = fetch_20newsgroups(subset='train')\n",
    "newsgroups_test  = fetch_20newsgroups(subset='test')\n",
    "\n",
    "vectorizer = CountVectorizer(stop_words='english')\n",
    "x_train = vectorizer.fit_transform(newsgroups_train.data)\n",
    "x_test  = vectorizer.fit_transform(newsgroups_test.data)"
   ]
  },
  {
   "cell_type": "code",
   "execution_count": 34,
   "metadata": {},
   "outputs": [
    {
     "name": "stdout",
     "output_type": "stream",
     "text": [
      "(7532,)\n",
      "(7532,)\n",
      "From: dhliu@solar.csie.ntu.edu.tw (Der-Hua Liu)\n",
      "Subject: keycode wrong for XKeyReleasedEvent ??\n",
      "Nntp-Posting-Host: jupiter.csie.ntu.edu.tw\n",
      "Organization: The Dept. of Computer Science and Information Engineering of NTU\n",
      "X-Newsreader: TIN [version 1.1 PL9]\n",
      "Lines: 15\n",
      "\n",
      "I am writing a X-based dosemu which requires XKeyReleasedEvent. \n",
      "I found the keycode of XKeyReleasedEvent is wrong.   If I run the program on\n",
      "a Linux host(XFree1.2) with  DISPLAY set to the local Linux and to\n",
      "the Sun host (X11R5), the two keycodes from the two Xservers are different. \n",
      "Of course, the keycode of XKeyPressedEvent is O.K.\n",
      "\n",
      "Can anybody verify this ?     Did I do anything wrong ? \n",
      "\t\n",
      "Thanks.\n",
      "\n",
      "--\n",
      "Edward Der-Hua Liu\n",
      "CS department\n",
      "National Taiwan University, Taiwan\n",
      "dhliu@solar.csie.ntu.edu.tw\n",
      "\n"
     ]
    }
   ],
   "source": [
    "print(newsgroups_test.filenames.shape)\n",
    "print(newsgroups_test.target.shape)\n",
    "print(newsgroups_test.data[30])"
   ]
  }
 ],
 "metadata": {
  "kernelspec": {
   "display_name": "Python 3",
   "language": "python",
   "name": "python3"
  },
  "language_info": {
   "codemirror_mode": {
    "name": "ipython",
    "version": 3
   },
   "file_extension": ".py",
   "mimetype": "text/x-python",
   "name": "python",
   "nbconvert_exporter": "python",
   "pygments_lexer": "ipython3",
   "version": "3.11.8"
  }
 },
 "nbformat": 4,
 "nbformat_minor": 2
}
